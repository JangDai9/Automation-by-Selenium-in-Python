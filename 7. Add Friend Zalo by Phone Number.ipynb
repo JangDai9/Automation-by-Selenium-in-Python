{
 "cells": [
  {
   "cell_type": "code",
   "execution_count": 1,
   "metadata": {},
   "outputs": [],
   "source": [
    "import time\n",
    "from selenium import webdriver\n",
    "from selenium.webdriver.chrome.options import Options\n",
    "from selenium.webdriver.common.by import By\n",
    "from selenium.webdriver.common.keys import Keys"
   ]
  },
  {
   "cell_type": "code",
   "execution_count": null,
   "metadata": {},
   "outputs": [],
   "source": [
    "import pandas as pd\n",
    "# loading .csv file which phone number list need add users\n",
    "# This file have 2 column: Name and Phone Number. Max row is 30.\n",
    "# with phone number have number 0 in first, you delete number 0\n",
    "data= pd.read_csv(\"../Book1.csv\")\n",
    "df = pd.DataFrame(data)\n",
    "data"
   ]
  },
  {
   "cell_type": "code",
   "execution_count": null,
   "metadata": {},
   "outputs": [],
   "source": [
    "# open zalo web\n",
    "options = webdriver.FirefoxOptions()\n",
    "options.headless = True\n",
    "driver = webdriver.Firefox(options=options)\n",
    "driver.get(\"https://chat.zalo.me/\")\n",
    "# Here, log in to zalo by scanning the QR code of your zalo account. \n",
    "# This activity helps you log in safely and prevents zalo from detecting unusual logins from your account. \n",
    "time.sleep(25)"
   ]
  },
  {
   "cell_type": "code",
   "execution_count": null,
   "metadata": {},
   "outputs": [],
   "source": [
    "# Search account by phone number.\n",
    "for i in data[\"Phone Number\"]:\n",
    "    time.sleep(5)\n",
    "    user= driver.find_element(By.ID, \"contact-search-input\")\n",
    "    user.send_keys(\"0\"+str(i))\n",
    "    user.send_keys(u'\\ue007')\n",
    "    time.sleep(2)\n",
    "    try:\n",
    "        driver.find_element(By.XPATH, \"/html/body/div/div/div[3]/nav/div[2]/div[3]/div/div[2]/div/div/div[1]/div/div[1]/div/div/div[2]\").click()\n",
    "        time.sleep(3)\n",
    "\n",
    "        driver.find_element(By.XPATH, \"/html/body/div/div/div[3]/main/div/article/div[3]/div[1]/div[2]/div[1]/div\").click()\n",
    "        time.sleep(2)\n",
    "        but=driver.find_element(By.XPATH, \"/html/body/div[2]/div/div/div[2]/div/div/div/div[1]/div[1]/div/div[3]/div/div[1]/div/textarea\")\n",
    "        but.clear()\n",
    "        but.send_keys(\"Xin chào, chúng tôi là E-Rent Khánh Hoà. Chúng tôi cung cấp ứng dụng di động đặt Lái Xe Hộ chuyên nghiệp. Rất mong được kết bạn với bạn.\")\n",
    "        #Click the add friend button\n",
    "        time.sleep(2)\n",
    "        driver.find_element(By.XPATH, \"/html/body/div[2]/div/div/div[2]/div/div/div/div[2]/div[2]/div\").click()\n",
    "        time.sleep(3)\n",
    "    except:\n",
    "        #Print out the list of phone numbers that were not found.\n",
    "        print(df.loc[df['Phone Number'] == i, 'Name'].iloc[0], i)\n",
    "        pass\n",
    "    user.clear()"
   ]
  }
 ],
 "metadata": {
  "kernelspec": {
   "display_name": "Python 3",
   "language": "python",
   "name": "python3"
  },
  "language_info": {
   "codemirror_mode": {
    "name": "ipython",
    "version": 3
   },
   "file_extension": ".py",
   "mimetype": "text/x-python",
   "name": "python",
   "nbconvert_exporter": "python",
   "pygments_lexer": "ipython3",
   "version": "3.12.0"
  }
 },
 "nbformat": 4,
 "nbformat_minor": 2
}
